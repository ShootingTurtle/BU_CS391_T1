{
 "cells": [
  {
   "cell_type": "code",
   "execution_count": 1,
   "metadata": {
    "slideshow": {
     "slide_type": "skip"
    }
   },
   "outputs": [
    {
     "name": "stdout",
     "output_type": "stream",
     "text": [
      "\n"
     ]
    }
   ],
   "source": [
    "%matplotlib inline\n",
    "%config InlineBackend.figure_format='retina'\n",
    "# import libraries\n",
    "import numpy as np\n",
    "import matplotlib as mp\n",
    "import pandas as pd\n",
    "import matplotlib.pyplot as plt\n",
    "import pandas as pd\n",
    "#import slideUtilities as sl\n",
    "from importlib import reload\n",
    "from datetime import datetime\n",
    "from IPython.display import Image\n",
    "from IPython.display import display_html\n",
    "from IPython.display import display\n",
    "from IPython.display import Math\n",
    "from IPython.display import Latex\n",
    "from IPython.display import HTML\n",
    "print('')"
   ]
  },
  {
   "cell_type": "code",
   "execution_count": 2,
   "metadata": {
    "slideshow": {
     "slide_type": "skip"
    }
   },
   "outputs": [
    {
     "data": {
      "text/html": [
       "<style>\n",
       " .container.slides .celltoolbar, .container.slides .hide-in-slideshow {\n",
       "    display: None ! important;\n",
       "}\n",
       "</style>\n"
      ],
      "text/plain": [
       "<IPython.core.display.HTML object>"
      ]
     },
     "metadata": {},
     "output_type": "display_data"
    }
   ],
   "source": [
    "%%html\n",
    "<style>\n",
    " .container.slides .celltoolbar, .container.slides .hide-in-slideshow {\n",
    "    display: None ! important;\n",
    "}\n",
    "</style>"
   ]
  },
  {
   "cell_type": "markdown",
   "metadata": {
    "slideshow": {
     "slide_type": "slide"
    }
   },
   "source": [
    "## The likelihood of the data given a model"
   ]
  },
  {
   "cell_type": "markdown",
   "metadata": {
    "slideshow": {
     "slide_type": "slide"
    }
   },
   "source": [
    "**Likelihood function:** Let $X\\sim \\mathcal{D}(p)$, for some known distribution $\\mathcal{D}$ that is controlled by an unknown parameter $p$, be a random variable, and $X_1,\\dots,X_n$ be $n$ iid samples of $X$. If we observe $X_1=x_1,\\dots,X_n=x_n$, let $L(p) = \\prod_{i=1}^n f_X(X_i = x_i)$ be the likelihood function, where $f_X$ is the pdf or pmf depending on whether $X$ is discrete or continuous."
   ]
  },
  {
   "cell_type": "markdown",
   "metadata": {
    "slideshow": {
     "slide_type": "fragment"
    }
   },
   "source": [
    "**Problem**: Assume a that someone tells you that he has a fair coin ($p=1/2$) and he tossed it 100 times, 70 of which was tail and 30 was heads. What is the likelihood of this event happening?\n",
    "\n",
    "\n",
    "What is the probabiilty of seeing 99 heads and 1 tails?"
   ]
  },
  {
   "cell_type": "markdown",
   "metadata": {},
   "source": [
    "$p=1/2$\n",
    "\n",
    "$P(X=30)={100\\choose 30}p^{30}(1-p)^{70}$\n",
    "\n",
    "$P(X=99) = {100\\choose 99}p^{99}(1-p)$\n",
    "\n",
    "$P(X=30)>P(X=99)$\n",
    "\n",
    "What is the value of $k$ for which you expect this to be true: $P(X=k)>P(X=k')$ for every $k'$"
   ]
  },
  {
   "cell_type": "markdown",
   "metadata": {
    "slideshow": {
     "slide_type": "slide"
    }
   },
   "source": [
    "**Maximum Likelihood Estimator (MLE):**  is the value of $p$ that maximizes $L(p)$. Intuitively, it is the setting of the parameter that makes our observation the most likely."
   ]
  },
  {
   "cell_type": "markdown",
   "metadata": {
    "slideshow": {
     "slide_type": "fragment"
    }
   },
   "source": [
    "**Problem:** Assume you get a coin, and want to estimate the probability $p$ that it lands heads. You decide to flip it 100 times and count the number of heads and tails. Your experiment results in 70 heads and 30 tails. What is the MLE for $p$? Hint: maximizing $L(p)$ is equivalent to maximizing $\\log L(p)$, which is called the log-likelihood function."
   ]
  },
  {
   "cell_type": "markdown",
   "metadata": {
    "slideshow": {
     "slide_type": "fragment"
    }
   },
   "source": [
    "**Solution:** Let $X$ be the number of heads in the experiment of tossing a coin 100 times. Then $X\\sim\\text{Bin}(100,p)$, and \n",
    "    $$L(p) = \\Pr(X = 70) = \\binom{100}{70}p^{70}(1-p)^{30}.$$\n",
    "    Maximizing $L(p)$ is equivalent to maximizing $\\log p^{70}(1-p)^{30} = 70\\log p+30\\log(1-p)$. \n",
    "    $$\\frac{d}{dp}70\\log p+30\\log(1-p)$$ $$= 70/p - 30/(1-p) = 0\\implies p = 70/100 = 0.7.$$\n",
    "    So $p=0.7$ is the MLE."
   ]
  },
  {
   "cell_type": "markdown",
   "metadata": {
    "slideshow": {
     "slide_type": "fragment"
    }
   },
   "source": [
    "**Problem:** Assume you that you want to model the number of bulbs that fail in a batch of 100 bulbs. Performing the experiment (out of 100 light bulbs, how many went out) 10 times (i.e. did the experiment 10 times), and got measurements 5, 2, 3, 2, 1, 5, 2, 2, 3, 1. What is the MLE for $\\lambda$, the parameter of the Poisson distribution?"
   ]
  },
  {
   "cell_type": "markdown",
   "metadata": {
    "slideshow": {
     "slide_type": "fragment"
    }
   },
   "source": [
    "**Solution:** Let's prove a more general fact: if $x_1,\\dots,x_n$ is the observed vector after sampling $\\text{Pois}(\\lambda)$ $n$ times, then the MLE for $\\lambda$ is $\\frac{1}{n}\\sum_{i\\leq n} x_i$, the average of the observations. This should be intuitive, because $\\lambda$ is the expectation of a Poisson-distributed random variable with parameter $\\lambda$.\n",
    "    \n",
    "We want to maximize $$\\log L(\\lambda) = \\log \\prod_{i\\leq n}\\frac{\\lambda^{x_i}}{x_i!}e^{-\\lambda} = \\sum_{i\\leq n}-\\lambda + x_i\\log \\lambda - \\log(x_i!).$$\n",
    "    Taking the derivative, we get $\\frac{d}{d\\lambda}\\log L(\\lambda) = \\sum_{i\\leq n}-1 + x_i\\frac{1}{\\lambda}$. Equating to zero, we get $\\lambda = \\frac{1}{n}\\sum_{i\\leq n}x_i$, as claimed.\n",
    "    \n",
    "Thus, the MLE is the average of the ten numbers, which comes out to be 2.6."
   ]
  },
  {
   "cell_type": "markdown",
   "metadata": {
    "slideshow": {
     "slide_type": "slide"
    }
   },
   "source": [
    "Note the importance of the **mean** of a set of observations!"
   ]
  }
 ],
 "metadata": {
  "anaconda-cloud": {},
  "celltoolbar": "Slideshow",
  "kernelspec": {
   "display_name": "Python 3",
   "language": "python",
   "name": "python3"
  },
  "language_info": {
   "codemirror_mode": {
    "name": "ipython",
    "version": 3
   },
   "file_extension": ".py",
   "mimetype": "text/x-python",
   "name": "python",
   "nbconvert_exporter": "python",
   "pygments_lexer": "ipython3",
   "version": "3.7.4"
  }
 },
 "nbformat": 4,
 "nbformat_minor": 1
}
